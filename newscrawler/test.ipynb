{
 "cells": [
  {
   "cell_type": "markdown",
   "metadata": {},
   "source": [
    "# Nettoyage de données"
   ]
  },
  {
   "source": [
    "import pandas as pd\n",
    "import numpy as np\n",
    "import json\n",
    "from elasticsearch import Elasticsearch\n",
    "from elasticsearch.helpers import bulk"
   ],
   "cell_type": "code",
   "metadata": {},
   "execution_count": 1,
   "outputs": []
  },
  {
   "cell_type": "code",
   "execution_count": 2,
   "metadata": {},
   "outputs": [
    {
     "output_type": "stream",
     "name": "stdout",
     "text": [
      "{\"acknowledged\":true}\n",
      "  % Total    % Received % Xferd  Average Speed   Time    Time     Time  Current\n",
      "                                 Dload  Upload   Total   Spent    Left  Speed\n",
      "\n",
      "  0     0    0     0    0     0      0      0 --:--:-- --:--:-- --:--:--     0\n",
      "100    21  100    21    0     0     98      0 --:--:-- --:--:-- --:--:--    99\n"
     ]
    }
   ],
   "source": [
    "!curl -XDELETE http://localhost:9200/movies/"
   ]
  },
  {
   "cell_type": "code",
   "execution_count": 3,
   "metadata": {},
   "outputs": [
    {
     "output_type": "execute_result",
     "data": {
      "text/plain": [
       "(30, [])"
      ]
     },
     "metadata": {},
     "execution_count": 3
    }
   ],
   "source": [
    "LOCAL = True\n",
    "es_client = Elasticsearch(hosts=[\"localhost\" if LOCAL else \"elastic\"])\n",
    "\n",
    "with open('dataFin.json') as json_data:\n",
    "    v = json.load(json_data)\n",
    "\n",
    "#print(v)\n",
    "\n",
    "def generate_data_exemple(documents):\n",
    "    for docu in documents:\n",
    "        yield {\n",
    "            \"_index\": \"movies\",\n",
    "            \"_type\": \"movie\",\n",
    "            \"_source\": {k: v if v else None for k, v in docu.items()},\n",
    "        }\n",
    "\n",
    "bulk(es_client, generate_data_exemple(v))"
   ]
  },
  {
   "cell_type": "code",
   "execution_count": 4,
   "metadata": {},
   "outputs": [
    {
     "output_type": "stream",
     "name": "stdout",
     "text": [
      "health status index  uuid                   pri rep docs.count docs.deleted store.size pri.store.size\n",
      "yellow open   movies dIXwh49FROmRR6WNFsCo6A   1   1         30            0     14.2kb         14.2kb\n",
      "  % Total    % Received % Xferd  Average Speed   Time    Time     Time  Current\n",
      "                                 Dload  Upload   Total   Spent    Left  Speed\n",
      "\n",
      "  0     0    0     0    0     0      0      0 --:--:-- --:--:-- --:--:--     0\n",
      "100   204  100   204    0     0  10200      0 --:--:-- --:--:-- --:--:-- 10200\n"
     ]
    }
   ],
   "source": [
    "!curl http://localhost:9200/_cat/indices?v"
   ]
  },
  {
   "source": [
    "with open('dataFin.json') as json_data:\n",
    "   v = json.load(json_data)\n",
    "\n",
    "print(v)"
   ],
   "cell_type": "code",
   "metadata": {},
   "execution_count": 20,
   "outputs": [
    {
     "output_type": "stream",
     "name": "stdout",
     "text": [
      "[{'titre': 'La vie est belle', 'Evaluation spectateur': 8.2, 'image_urls': 'https://media.senscritique.com/media/000016162240/150/La_vie_est_belle.jpg'}, {'titre': 'Christmas Story', 'Evaluation spectateur': 6.2, 'image_urls': 'https://media.senscritique.com/media/000016127185/150/Christmas_Story.jpg'}, {'titre': 'Tout... sauf en famille', 'Evaluation spectateur': 4.6, 'image_urls': 'https://media.senscritique.com/media/000000080288/150/Tout_sauf_en_famille.jpg'}, {'titre': 'Super Noël', 'Evaluation spectateur': 5.7, 'image_urls': 'https://media.senscritique.com/media/000018248554/150/Super_Noel.jpg'}, {'titre': 'Hyper Noël', 'Evaluation spectateur': 4.9, 'image_urls': 'https://media.senscritique.com/media/000018252931/150/Hyper_Noel.jpg'}, {'titre': 'Super Noël méga givré (Super Noël 3)', 'Evaluation spectateur': 4.0, 'image_urls': 'https://media.senscritique.com/media/000005109764/150/Esprit_de_famille.jpg'}, {'titre': 'Le Grinch', 'Evaluation spectateur': 5.2, 'image_urls': 'https://media.senscritique.com/media/000008428263/150/La_Fille_du_pere_Noel_2_Panique_a_Polaris.jpg'}, {'titre': 'Le Drôle de Noël de Scrooge', 'Evaluation spectateur': 6.2, 'image_urls': 'https://media.senscritique.com/media/000006328396/150/Richie_Rich_Meilleurs_Voeux.jpg'}, {'titre': 'Le Pôle Express', 'Evaluation spectateur': 6.0, 'image_urls': 'https://media.senscritique.com/media/000018279972/150/Marie_avant_Noel.jpg'}, {'titre': 'Voisin contre voisin', 'Evaluation spectateur': 4.5, 'image_urls': 'https://media.senscritique.com/media/000000153845/150/Un_Noel_de_folie.jpg'}, {'titre': 'Esprit de famille', 'Evaluation spectateur': 5.1, 'image_urls': 'https://media.senscritique.com/media/000017422684/150/Le_Noel_de_Mickey.jpg'}, {'titre': 'Famille à louer', 'Evaluation spectateur': 4.6, 'image_urls': 'https://media.senscritique.com/media/000005980281/150/Les_Amoureux_de_Noel.jpg'}, {'titre': 'Un Noël de folie !', 'Evaluation spectateur': 4.9, 'image_urls': 'https://media.senscritique.com/media/000000151379/150/Le_Sapin_a_les_boules_2_Cousin_Eddie.jpg'}, {'titre': 'Elfe', 'Evaluation spectateur': 5.4, 'image_urls': 'https://media.senscritique.com/media/000005882762/150/Les_12_Chiens_de_Noel.jpg'}, {'titre': 'Frère Noël', 'Evaluation spectateur': 4.7, 'image_urls': 'https://media.senscritique.com/media/000000179553/150/Super_Noel_mega_givre_Super_Noel_3.png'}, {'titre': \"Maman, j'ai raté l'avion !\", 'Evaluation spectateur': 6.3, 'image_urls': 'https://media.senscritique.com/media/000000025473/150/Maman_j_ai_encore_rate_l_avion.jpg'}, {'titre': \"Maman, j'ai encore raté l'avion...\", 'Evaluation spectateur': 5.7, 'image_urls': 'https://media.senscritique.com/media/000000010862/150/La_Fille_du_pere_Noel.jpg'}, {'titre': 'Richie Rich : Meilleurs Vœux', 'Evaluation spectateur': 3.5, 'image_urls': 'https://media.senscritique.com/media/000007878081/150/Le_Pole_Express.jpg'}, {'titre': 'Le Sapin a les boules', 'Evaluation spectateur': 5.7, 'image_urls': 'https://media.senscritique.com/media/000006182927/150/Le_Drole_de_Noel_de_Scrooge.jpg'}, {'titre': 'Le Sapin a les boules 2 : Cousin Eddie', 'Evaluation spectateur': 0, 'image_urls': 'https://media.senscritique.com/media/000017493323/150/Le_Grinch.jpg'}, {'titre': 'À la maison pour Noël', 'Evaluation spectateur': 4.6, 'image_urls': 'https://media.senscritique.com/media/000004203183/150/This_Christmas.jpg'}, {'titre': 'La Fille du père Noël', 'Evaluation spectateur': 3.9, 'image_urls': 'https://media.senscritique.com/media/000004022628/150/Maman_j_ai_rate_l_avion.jpg'}, {'titre': 'La Fille du père Noël 2 : Panique à Polaris', 'Evaluation spectateur': 4.2, 'image_urls': 'https://media.senscritique.com/media/000000116149/150/Frere_Noel.jpg'}, {'titre': 'Un fiancé pour Noël', 'Evaluation spectateur': 5.0, 'image_urls': 'https://media.senscritique.com/media/000004362031/150/Un_fiance_pour_Noel.jpg'}, {'titre': 'Trois Jours avant Noël', 'Evaluation spectateur': 0, 'image_urls': 'https://media.senscritique.com/media/000000162876/150/Elfe.jpg'}, {'titre': 'This Christmas', 'Evaluation spectateur': 5.6, 'image_urls': 'https://media.senscritique.com/media/000000095295/150/Voisin_contre_voisin.jpg'}, {'titre': 'Les Amoureux de Noël', 'Evaluation spectateur': 5.4, 'image_urls': 'https://media.senscritique.com/media/000000130799/150/Le_Sapin_a_les_boules.jpg'}, {'titre': 'Marié avant Noël', 'Evaluation spectateur': 5.4, 'image_urls': 'https://media.senscritique.com/media/000006981491/150/Famille_a_louer.jpg'}, {'titre': 'Le Noël de Mickey', 'Evaluation spectateur': 7.5, 'image_urls': 'https://media.senscritique.com/media/000019110917/150/A_la_maison_pour_Noel.jpg'}, {'titre': 'Les 12 Chiens de Noël', 'Evaluation spectateur': 5.2, 'image_urls': 'https://media.senscritique.com/media/000008640816/150/Trois_Jours_avant_Noel.jpg'}]\n"
     ]
    }
   ]
  },
  {
   "cell_type": "code",
   "execution_count": 17,
   "metadata": {},
   "outputs": [
    {
     "output_type": "execute_result",
     "data": {
      "text/plain": [
       "{'La vie est belle': 'https://media.senscritique.com/media/000016162240/150/La_vie_est_belle.jpg',\n",
       " 'Le Noël de Mickey': 'https://media.senscritique.com/media/000019110917/150/A_la_maison_pour_Noel.jpg',\n",
       " \"Maman, j'ai raté l'avion !\": 'https://media.senscritique.com/media/000000025473/150/Maman_j_ai_encore_rate_l_avion.jpg',\n",
       " 'Christmas Story': 'https://media.senscritique.com/media/000016127185/150/Christmas_Story.jpg',\n",
       " 'Le Drôle de Noël de Scrooge': 'https://media.senscritique.com/media/000006328396/150/Richie_Rich_Meilleurs_Voeux.jpg',\n",
       " 'Le Pôle Express': 'https://media.senscritique.com/media/000018279972/150/Marie_avant_Noel.jpg',\n",
       " 'Super Noël': 'https://media.senscritique.com/media/000018248554/150/Super_Noel.jpg',\n",
       " \"Maman, j'ai encore raté l'avion...\": 'https://media.senscritique.com/media/000000010862/150/La_Fille_du_pere_Noel.jpg',\n",
       " 'Le Sapin a les boules': 'https://media.senscritique.com/media/000006182927/150/Le_Drole_de_Noel_de_Scrooge.jpg',\n",
       " 'This Christmas': 'https://media.senscritique.com/media/000000095295/150/Voisin_contre_voisin.jpg'}"
      ]
     },
     "metadata": {},
     "execution_count": 17
    }
   ],
   "source": [
    "QUERY = {\n",
    "    \"sort\" : [\n",
    "        { \"Evaluation spectateur\" : {\"order\" : \"desc\"}},\n",
    "    ],\n",
    "    \"query\" : {\n",
    "        \"match_all\": {}\n",
    "    }\n",
    "}\n",
    "\n",
    "result = es_client.search(index=\"movies\", body=QUERY)\n",
    "{elt['_source']['titre']:elt['_source']['image_urls']  for elt in result[\"hits\"][\"hits\"]}"
   ]
  },
  {
   "cell_type": "code",
   "execution_count": 11,
   "metadata": {},
   "outputs": [
    {
     "output_type": "stream",
     "name": "stdout",
     "text": [
      "[\"Maman, j'ai raté l'avion !\", \"Maman, j'ai encore raté l'avion...\"]\n"
     ]
    }
   ],
   "source": [
    "def search_by_word(film):\n",
    "    QUERY = {\n",
    "        \"query\": {\n",
    "            \"multi_match\" : {\n",
    "                \"query\":    film,\n",
    "                \"fields\": [ \"titre\", \"overview\" ] \n",
    "                }\n",
    "            }\n",
    "        }\n",
    "    result = es_client.search(index=\"movies\", body=QUERY)\n",
    "    return [elt['_source']['titre']  for elt in result[\"hits\"][\"hits\"]]\n",
    "\n",
    "print(search_by_word('maman'))"
   ]
  }
 ],
 "metadata": {
  "kernelspec": {
   "display_name": "Python 3",
   "language": "python",
   "name": "python3"
  },
  "language_info": {
   "codemirror_mode": {
    "name": "ipython",
    "version": 3
   },
   "file_extension": ".py",
   "mimetype": "text/x-python",
   "name": "python",
   "nbconvert_exporter": "python",
   "pygments_lexer": "ipython3",
   "version": "3.7.6-final"
  }
 },
 "nbformat": 4,
 "nbformat_minor": 2
}