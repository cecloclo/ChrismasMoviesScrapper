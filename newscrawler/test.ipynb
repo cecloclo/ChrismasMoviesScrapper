{
 "cells": [
  {
   "cell_type": "markdown",
   "metadata": {},
   "source": [
    "# Nettoyage de données"
   ]
  },
  {
   "source": [
    "import pandas as pd\n",
    "import numpy as np\n",
    "import json\n",
    "from elasticsearch import Elasticsearch\n",
    "from elasticsearch.helpers import bulk"
   ],
   "cell_type": "code",
   "metadata": {},
   "execution_count": 2,
   "outputs": []
  },
  {
   "cell_type": "code",
   "execution_count": 21,
   "metadata": {},
   "outputs": [
    {
     "output_type": "stream",
     "name": "stdout",
     "text": [
      "{\"acknowledged\":true}\n",
      "  % Total    % Received % Xferd  Average Speed   Time    Time     Time  Current\n",
      "                                 Dload  Upload   Total   Spent    Left  Speed\n",
      "\n",
      "  0     0    0     0    0     0      0      0 --:--:-- --:--:-- --:--:--     0\n",
      "100    21  100    21    0     0    122      0 --:--:-- --:--:-- --:--:--   122\n"
     ]
    }
   ],
   "source": [
    "!curl -XDELETE http://localhost:9200/movies/"
   ]
  },
  {
   "cell_type": "code",
   "execution_count": 22,
   "metadata": {},
   "outputs": [
    {
     "output_type": "execute_result",
     "data": {
      "text/plain": [
       "(30, [])"
      ]
     },
     "metadata": {},
     "execution_count": 22
    }
   ],
   "source": [
    "LOCAL = True\n",
    "es_client = Elasticsearch(hosts=[\"localhost\" if LOCAL else \"elastic\"])\n",
    "\n",
    "with open('dataFin.json') as json_data:\n",
    "    v = json.load(json_data)\n",
    "\n",
    "#print(v)\n",
    "\n",
    "def generate_data_exemple(documents):\n",
    "    for docu in documents:\n",
    "        yield {\n",
    "            \"_index\": \"movies\",\n",
    "            \"_type\": \"movie\",\n",
    "            \"_source\": {k: v if v else None for k, v in docu.items()},\n",
    "        }\n",
    "\n",
    "bulk(es_client, generate_data_exemple(v))"
   ]
  },
  {
   "cell_type": "code",
   "execution_count": 23,
   "metadata": {},
   "outputs": [
    {
     "output_type": "stream",
     "name": "stdout",
     "text": [
      "health status index  uuid                   pri rep docs.count docs.deleted store.size pri.store.size\n",
      "yellow open   movies 7gNmflYSQx6O_yIweo4wNw   1   1         30            0     14.2kb         14.2kb\n",
      "  % Total    % Received % Xferd  Average Speed   Time    Time     Time  Current\n",
      "                                 Dload  Upload   Total   Spent    Left  Speed\n",
      "\n",
      "  0     0    0     0    0     0      0      0 --:--:-- --:--:-- --:--:--     0\n",
      "100   204  100   204    0     0   7285      0 --:--:-- --:--:-- --:--:--  7555\n"
     ]
    }
   ],
   "source": [
    "!curl http://localhost:9200/_cat/indices?v"
   ]
  },
  {
   "source": [
    "with open('dataFin.json') as json_data:\n",
    "   v = json.load(json_data)\n",
    "\n",
    "#print(v)"
   ],
   "cell_type": "code",
   "metadata": {},
   "execution_count": 5,
   "outputs": []
  },
  {
   "cell_type": "code",
   "execution_count": 25,
   "metadata": {},
   "outputs": [
    {
     "output_type": "execute_result",
     "data": {
      "text/plain": [
       "{'La vie est belle': 8.2,\n",
       " 'Le Noël de Mickey': 7.5,\n",
       " \"Maman, j'ai raté l'avion !\": 6.3,\n",
       " 'Christmas Story': 6.2,\n",
       " 'Le Drôle de Noël de Scrooge': 6.2,\n",
       " 'Le Pôle Express': 6.0,\n",
       " 'Super Noël': 5.7,\n",
       " \"Maman, j'ai encore raté l'avion...\": 5.7,\n",
       " 'Le Sapin a les boules': 5.7,\n",
       " 'This Christmas': 5.6}"
      ]
     },
     "metadata": {},
     "execution_count": 25
    }
   ],
   "source": [
    "QUERY = {\n",
    "    \"sort\" : [\n",
    "        { \"Evaluation spectateur\" : {\"order\" : \"desc\"}},\n",
    "    ],\n",
    "    \"query\" : {\n",
    "        \"match_all\": {}\n",
    "    }\n",
    "}\n",
    "\n",
    "result = es_client.search(index=\"movies\", body=QUERY)\n",
    "{elt['_source']['titre']:elt['_source']['Evaluation spectateur']  for elt in result[\"hits\"][\"hits\"]}"
   ]
  },
  {
   "cell_type": "code",
   "execution_count": null,
   "metadata": {},
   "outputs": [],
   "source": []
  }
 ],
 "metadata": {
  "kernelspec": {
   "display_name": "Python 3",
   "language": "python",
   "name": "python3"
  },
  "language_info": {
   "codemirror_mode": {
    "name": "ipython",
    "version": 3
   },
   "file_extension": ".py",
   "mimetype": "text/x-python",
   "name": "python",
   "nbconvert_exporter": "python",
   "pygments_lexer": "ipython3",
   "version": "3.7.6-final"
  }
 },
 "nbformat": 4,
 "nbformat_minor": 2
}