{
 "cells": [
  {
   "cell_type": "markdown",
   "metadata": {},
   "source": [
    "# Nettoyage de données"
   ]
  },
  {
   "source": [
    "import pandas as pd\n",
    "import numpy as np\n",
    "import json\n",
    "from elasticsearch import Elasticsearch\n",
    "from elasticsearch.helpers import bulk"
   ],
   "cell_type": "code",
   "metadata": {},
   "execution_count": 77,
   "outputs": []
  },
  {
   "cell_type": "code",
   "execution_count": 78,
   "metadata": {},
   "outputs": [
    {
     "output_type": "execute_result",
     "data": {
      "text/plain": [
       "(30, [])"
      ]
     },
     "metadata": {},
     "execution_count": 78
    }
   ],
   "source": [
    "LOCAL = True\n",
    "es_client = Elasticsearch(hosts=[\"localhost\" if LOCAL else \"elastic\"])\n",
    "\n",
    "def generate_data_exemple(documents):\n",
    "    for docu in documents:\n",
    "        yield {\n",
    "            \"_index\": \"movies\",\n",
    "            \"_type\": \"movie\",\n",
    "            \"_source\": {k: v if v else None for k, v in docu.items()},\n",
    "        }\n",
    "\n",
    "\n",
    "bulk(es_client, generate_data_exemple(v))"
   ]
  },
  {
   "cell_type": "code",
   "execution_count": 80,
   "metadata": {},
   "outputs": [],
   "source": [
    "LOCAL = True\n",
    "es_client = Elasticsearch(hosts=[\"localhost\" if LOCAL else \"elasticsearch\"])"
   ]
  },
  {
   "source": [
    "with open('dataFin.json') as json_data:\n",
    "    v = json.load(json_data)\n",
    "\n",
    "#print(v)"
   ],
   "cell_type": "code",
   "metadata": {},
   "execution_count": 81,
   "outputs": [
    {
     "output_type": "stream",
     "name": "stdout",
     "text": [
      "[{'titre': 'La vie est belle', 'Evaluation spectateur': 8.2, 'image_urls': 'https://media.senscritique.com/media/000016162240/150/La_vie_est_belle.jpg'}, {'titre': 'Christmas Story', 'Evaluation spectateur': 6.2, 'image_urls': 'https://media.senscritique.com/media/000016127185/150/Christmas_Story.jpg'}, {'titre': 'Tout... sauf en famille', 'Evaluation spectateur': 4.6, 'image_urls': 'https://media.senscritique.com/media/000000080288/150/Tout_sauf_en_famille.jpg'}, {'titre': 'Super Noël', 'Evaluation spectateur': 5.7, 'image_urls': 'https://media.senscritique.com/media/000018248554/150/Super_Noel.jpg'}, {'titre': 'Hyper Noël', 'Evaluation spectateur': 4.9, 'image_urls': 'https://media.senscritique.com/media/000018252931/150/Hyper_Noel.jpg'}, {'titre': 'Super Noël méga givré (Super Noël 3)', 'Evaluation spectateur': 4.0, 'image_urls': 'https://media.senscritique.com/media/000005109764/150/Esprit_de_famille.jpg'}, {'titre': 'Le Grinch', 'Evaluation spectateur': 5.2, 'image_urls': 'https://media.senscritique.com/media/000008428263/150/La_Fille_du_pere_Noel_2_Panique_a_Polaris.jpg'}, {'titre': 'Le Drôle de Noël de Scrooge', 'Evaluation spectateur': 6.2, 'image_urls': 'https://media.senscritique.com/media/000006328396/150/Richie_Rich_Meilleurs_Voeux.jpg'}, {'titre': 'Le Pôle Express', 'Evaluation spectateur': 6.0, 'image_urls': 'https://media.senscritique.com/media/000018279972/150/Marie_avant_Noel.jpg'}, {'titre': 'Voisin contre voisin', 'Evaluation spectateur': 4.5, 'image_urls': 'https://media.senscritique.com/media/000000153845/150/Un_Noel_de_folie.jpg'}, {'titre': 'Esprit de famille', 'Evaluation spectateur': 5.1, 'image_urls': 'https://media.senscritique.com/media/000017422684/150/Le_Noel_de_Mickey.jpg'}, {'titre': 'Famille à louer', 'Evaluation spectateur': 4.6, 'image_urls': 'https://media.senscritique.com/media/000005980281/150/Les_Amoureux_de_Noel.jpg'}, {'titre': 'Un Noël de folie !', 'Evaluation spectateur': 4.9, 'image_urls': 'https://media.senscritique.com/media/000000151379/150/Le_Sapin_a_les_boules_2_Cousin_Eddie.jpg'}, {'titre': 'Elfe', 'Evaluation spectateur': 5.4, 'image_urls': 'https://media.senscritique.com/media/000005882762/150/Les_12_Chiens_de_Noel.jpg'}, {'titre': 'Frère Noël', 'Evaluation spectateur': 4.7, 'image_urls': 'https://media.senscritique.com/media/000000179553/150/Super_Noel_mega_givre_Super_Noel_3.png'}, {'titre': \"Maman, j'ai raté l'avion !\", 'Evaluation spectateur': 6.3, 'image_urls': 'https://media.senscritique.com/media/000000025473/150/Maman_j_ai_encore_rate_l_avion.jpg'}, {'titre': \"Maman, j'ai encore raté l'avion...\", 'Evaluation spectateur': 5.7, 'image_urls': 'https://media.senscritique.com/media/000000010862/150/La_Fille_du_pere_Noel.jpg'}, {'titre': 'Richie Rich : Meilleurs Vœux', 'Evaluation spectateur': 3.5, 'image_urls': 'https://media.senscritique.com/media/000007878081/150/Le_Pole_Express.jpg'}, {'titre': 'Le Sapin a les boules', 'Evaluation spectateur': 5.7, 'image_urls': 'https://media.senscritique.com/media/000006182927/150/Le_Drole_de_Noel_de_Scrooge.jpg'}, {'titre': 'Le Sapin a les boules 2 : Cousin Eddie', 'Evaluation spectateur': 0, 'image_urls': 'https://media.senscritique.com/media/000017493323/150/Le_Grinch.jpg'}, {'titre': 'À la maison pour Noël', 'Evaluation spectateur': 4.6, 'image_urls': 'https://media.senscritique.com/media/000004203183/150/This_Christmas.jpg'}, {'titre': 'La Fille du père Noël', 'Evaluation spectateur': 3.9, 'image_urls': 'https://media.senscritique.com/media/000004022628/150/Maman_j_ai_rate_l_avion.jpg'}, {'titre': 'La Fille du père Noël 2 : Panique à Polaris', 'Evaluation spectateur': 4.2, 'image_urls': 'https://media.senscritique.com/media/000000116149/150/Frere_Noel.jpg'}, {'titre': 'Un fiancé pour Noël', 'Evaluation spectateur': 5.0, 'image_urls': 'https://media.senscritique.com/media/000004362031/150/Un_fiance_pour_Noel.jpg'}, {'titre': 'Trois Jours avant Noël', 'Evaluation spectateur': 0, 'image_urls': 'https://media.senscritique.com/media/000000162876/150/Elfe.jpg'}, {'titre': 'This Christmas', 'Evaluation spectateur': 5.6, 'image_urls': 'https://media.senscritique.com/media/000000095295/150/Voisin_contre_voisin.jpg'}, {'titre': 'Les Amoureux de Noël', 'Evaluation spectateur': 5.4, 'image_urls': 'https://media.senscritique.com/media/000000130799/150/Le_Sapin_a_les_boules.jpg'}, {'titre': 'Marié avant Noël', 'Evaluation spectateur': 5.4, 'image_urls': 'https://media.senscritique.com/media/000006981491/150/Famille_a_louer.jpg'}, {'titre': 'Le Noël de Mickey', 'Evaluation spectateur': 7.5, 'image_urls': 'https://media.senscritique.com/media/000019110917/150/A_la_maison_pour_Noel.jpg'}, {'titre': 'Les 12 Chiens de Noël', 'Evaluation spectateur': 5.2, 'image_urls': 'https://media.senscritique.com/media/000008640816/150/Trois_Jours_avant_Noel.jpg'}]\n"
     ]
    }
   ]
  },
  {
   "cell_type": "code",
   "execution_count": 84,
   "metadata": {},
   "outputs": [
    {
     "output_type": "execute_result",
     "data": {
      "text/plain": [
       "{'La vie est belle': '8.2',\n",
       " 'Christmas Story': '6.2',\n",
       " 'Tout... sauf en famille': '4.6',\n",
       " 'Super Noël': '5.7',\n",
       " 'Hyper Noël': '4.9',\n",
       " 'Super Noël méga givré (Super Noël 3)': '4.0',\n",
       " 'Le Grinch': '5.2',\n",
       " 'Le Drôle de Noël de Scrooge': '6.2',\n",
       " 'Le Pôle Express': '6.0',\n",
       " 'Voisin contre voisin': '4.5'}"
      ]
     },
     "metadata": {},
     "execution_count": 84
    }
   ],
   "source": [
    "QUERY = {\n",
    "    \"query\": {\n",
    "        \"match_all\": {}\n",
    "    }\n",
    "}\n",
    "\n",
    "result = es_client.search(index=\"movies\", body=QUERY)\n",
    "{elt['_source']['titre']:elt['_source']['Evaluation spectateur']  for elt in result[\"hits\"][\"hits\"]}"
   ]
  },
  {
   "cell_type": "code",
   "execution_count": 82,
   "metadata": {},
   "outputs": [],
   "source": [
    "QUERY = {\n",
    "  \"query\": {\n",
    "    \"match\" : {\n",
    "     # \"query\":    \"Smith\",\n",
    "      \"field\": [ \"titre\"]#, \"overview\" ] \n",
    "    }\n",
    "  },\n",
    "    \"sort\" : [\n",
    "        { \"Evaluation spectateur\" : {\"order\" : \"desc\"}}\n",
    "    ]\n",
    "}\n",
    "\n",
    "#result = es_client.search(index=\"movies\", body=QUERY)\n",
    "#{elt['_source']['titre']:elt['_source']['Evaluation spectateur']  for elt in result[\"hits\"][\"hits\"]}"
   ]
  },
  {
   "cell_type": "code",
   "execution_count": 61,
   "metadata": {},
   "outputs": [],
   "source": [
    "QUERY = {\n",
    "    \"sort\" : [\n",
    "        { \"Evaluation spectateur\" : {\"order\" : \"desc\"}},\n",
    "    ],\n",
    "    \"query\" : {\n",
    "        \"term\" : { \"titre\" : \"Noel\" }\n",
    "    }\n",
    "}\n",
    "\n",
    "#result = es_client.search(index=\"movies\", body=QUERY)\n",
    "#[elt['_source']['titre'] for elt in result[\"hits\"][\"hits\"]]"
   ]
  },
  {
   "cell_type": "code",
   "execution_count": 62,
   "metadata": {},
   "outputs": [
    {
     "output_type": "error",
     "ename": "SyntaxError",
     "evalue": "invalid syntax (<ipython-input-62-8509dd534613>, line 5)",
     "traceback": [
      "\u001b[1;36m  File \u001b[1;32m\"<ipython-input-62-8509dd534613>\"\u001b[1;36m, line \u001b[1;32m5\u001b[0m\n\u001b[1;33m    \"sort\" : [\u001b[0m\n\u001b[1;37m         ^\u001b[0m\n\u001b[1;31mSyntaxError\u001b[0m\u001b[1;31m:\u001b[0m invalid syntax\n"
     ]
    }
   ],
   "source": [
    "QUERY = {\n",
    "    \"query\": {\n",
    "        \"match_all\": {}\n",
    "    \n",
    "    \"sort\" : [\n",
    "        { \"Evaluation spectateur\" : {\"order\" : \"desc\"}}\n",
    "    ]\n",
    "}\n",
    "}}\n",
    "\n",
    "#result = es_client.search(index=\"movies\", body=QUERY)\n",
    "#[elt['_source']['titre'] for elt in result[\"hits\"][\"hits\"]]"
   ]
  },
  {
   "cell_type": "code",
   "execution_count": 63,
   "metadata": {},
   "outputs": [],
   "source": [
    "QUERY = {\n",
    "   \"query\": {\n",
    "     \"match\" : {\n",
    "       \"fields\": [ \"titre\"]\n",
    "     }\n",
    "   },\n",
    "    \"sort\" : [\n",
    "        { \"Evaluation spectateur\" : {\"order\" : \"desc\"}}\n",
    "    ]\n",
    "}\n",
    "\n",
    "#[elt['_source']['titre'] for elt in result[\"hits\"][\"hits\"]]\n",
    "#result = es_client.search(index=\"movies\", body=QUERY)\n",
    "#{elt['_source']['titre']:elt['_source']['Evaluation spectateur'] for elt in result[\"hits\"][\"hits\"]}"
   ]
  },
  {
   "cell_type": "code",
   "execution_count": 74,
   "metadata": {},
   "outputs": [],
   "source": [
    "QUERY = {\n",
    "    \"query\": {\n",
    "        \"match_all\": {}\n",
    "\n",
    "    },\n",
    "                \"sort\" : [\n",
    "        { \"Evaluation spectateur\" : {\"order\" : \"desc\"}}\n",
    "    ]\n",
    "    \n",
    "}\n",
    "\n",
    "#result = es_client.search(index=\"movies\", body=QUERY)\n",
    "#{elt['_source']['titre']:elt['_source']['Evaluation spectateur'] for elt in result[\"hits\"][\"hits\"]}"
   ]
  },
  {
   "source": [
    "QUERY = {\n",
    "  \"query\": {\n",
    "    \"terms\" : {\n",
    "      \"sort\" : [\n",
    "        { \"Evaluation spectateur\" : {\"order\" : \"desc\"}}\n",
    "    ]}\n",
    "  }\n",
    "}\n",
    "\n",
    "result = es_client.search(index=\"movies\", body=QUERY)\n",
    "{elt['_source']['titre']:elt['_source']['Evaluation spectateur']  for elt in result[\"hits\"][\"hits\"]}"
   ],
   "cell_type": "code",
   "metadata": {},
   "execution_count": 88,
   "outputs": [
    {
     "output_type": "execute_result",
     "data": {
      "text/plain": [
       "{}"
      ]
     },
     "metadata": {},
     "execution_count": 88
    }
   ]
  },
  {
   "cell_type": "code",
   "execution_count": null,
   "metadata": {},
   "outputs": [],
   "source": []
  }
 ],
 "metadata": {
  "kernelspec": {
   "display_name": "Python 3",
   "language": "python",
   "name": "python3"
  },
  "language_info": {
   "codemirror_mode": {
    "name": "ipython",
    "version": 3
   },
   "file_extension": ".py",
   "mimetype": "text/x-python",
   "name": "python",
   "nbconvert_exporter": "python",
   "pygments_lexer": "ipython3",
   "version": "3.7.6-final"
  }
 },
 "nbformat": 4,
 "nbformat_minor": 2
}